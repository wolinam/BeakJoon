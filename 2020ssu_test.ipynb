{
 "cells": [
  {
   "cell_type": "code",
   "execution_count": 14,
   "metadata": {},
   "outputs": [
    {
     "name": "stdout",
     "output_type": "stream",
     "text": [
      "3\n",
      "10110001011101011000\n",
      "8\n"
     ]
    }
   ],
   "source": [
    "pat_len = int(input())\n",
    "pat = str(input())\n",
    "total_len = int(len(pat))\n",
    "result = list()\n",
    "count = 0\n",
    "\n",
    "if (pat_len==1):\n",
    "    print('2')\n",
    "else:\n",
    "    for i in range(0,total_len-pat_len+1,1):\n",
    "        if(pat[i:i+pat_len] in result):\n",
    "            continue\n",
    "        else:\n",
    "            result.append(pat[i:i+pat_len])\n",
    "print(len(result))"
   ]
  },
  {
   "cell_type": "code",
   "execution_count": 38,
   "metadata": {},
   "outputs": [
    {
     "name": "stdout",
     "output_type": "stream",
     "text": [
      "1997 4 2\n",
      "WED\n"
     ]
    }
   ],
   "source": [
    "y,m,d = input().split()\n",
    "month = [31,28,31,30,31,30,31,31,30,31,30,31]\n",
    "mon = 0\n",
    "year = int(y)-1900\n",
    "count = 0\n",
    "if( int(y)<=0):\n",
    "    print('ERR')\n",
    "elif(int(d)>month[int(m)+1]):\n",
    "   print('ERR')\n",
    "elif( int(m)<=0):\n",
    "    print('ERR')\n",
    "elif( int(d)<=0):\n",
    "    print('ERR')\n",
    "else:    \n",
    "    for i in range(0,int(m)-1,1):\n",
    "        mon += month[i]\n",
    "\n",
    "    for k in range(1900,int(y)+1,1):\n",
    "        if(k%4==0):\n",
    "            if(k%100!=0):\n",
    "                count+=1\n",
    "            elif(k%100==0):\n",
    "                if(k%400==0):\n",
    "                    count+=1\n",
    "                \n",
    "    date = year*365 + int(d) + mon + count\n",
    "    if (date%7 == 0):\n",
    "        print('SUN')\n",
    "    elif (date%7 == 1):\n",
    "        print('MON')\n",
    "    elif (date%7 == 2):\n",
    "        print('TUE')\n",
    "    elif (date%7 == 3):\n",
    "        print('WED')\n",
    "    elif (date%7 == 4):\n",
    "        print('THU')\n",
    "    elif (date%7 == 5):\n",
    "        print('FRI')\n",
    "    elif (date%7 == 6):\n",
    "        print('SAT')\n",
    "        \n",
    "        \n",
    "#통과"
   ]
  },
  {
   "cell_type": "code",
   "execution_count": null,
   "metadata": {},
   "outputs": [],
   "source": [
    "pat=list()\n",
    "pat = input().split()\n",
    "le = int(pat[0])\n",
    "del pat[0]\n",
    "count = 0\n",
    "result = 0\n",
    "st=''.join(pat)\n",
    "\n",
    "pat2=list()\n",
    "pat2 = st.split('0')\n",
    "\n",
    "for i in range(0,int(le)-2,1):\n",
    "        if(pat[i]=='0'):\n",
    "            if(pat[i+1]=='0'):\n",
    "                if(pat[i+2]=='0'):\n",
    "                    result = pat.count('1')\n",
    "                    print(result)\n",
    "                    \n",
    "if(result==0):\n",
    "    for k in range(0,len(pat2),1):\n",
    "        count = pat2[k].count('1')\n",
    "        ct = count\n",
    "        for j in range(1,ct,1):\n",
    "            count+=ct-j\n",
    "            result += count\n",
    "    print(result)"
   ]
  },
  {
   "cell_type": "code",
   "execution_count": null,
   "metadata": {},
   "outputs": [],
   "source": []
  },
  {
   "cell_type": "code",
   "execution_count": null,
   "metadata": {},
   "outputs": [],
   "source": []
  }
 ],
 "metadata": {
  "kernelspec": {
   "display_name": "Python 3",
   "language": "python",
   "name": "python3"
  },
  "language_info": {
   "codemirror_mode": {
    "name": "ipython",
    "version": 3
   },
   "file_extension": ".py",
   "mimetype": "text/x-python",
   "name": "python",
   "nbconvert_exporter": "python",
   "pygments_lexer": "ipython3",
   "version": "3.7.6"
  }
 },
 "nbformat": 4,
 "nbformat_minor": 4
}
