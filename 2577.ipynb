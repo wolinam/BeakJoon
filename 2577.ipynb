{
 "cells": [
  {
   "cell_type": "code",
   "execution_count": 8,
   "metadata": {},
   "outputs": [
    {
     "name": "stdout",
     "output_type": "stream",
     "text": [
      " 150\n",
      " 266\n",
      " 427\n",
      "3\n",
      "1\n",
      "0\n",
      "2\n",
      "0\n",
      "0\n",
      "0\n",
      "2\n",
      "0\n",
      "0\n"
     ]
    }
   ],
   "source": [
    "#출력형식이 잘못되었습니다\n",
    "A = int(input(' '))\n",
    "B = int(input(' '))\n",
    "C = int(input(' '))\n",
    "N = str(A*B*C)\n",
    "\n",
    "list1 = [N.count('0'),N.count('1'),N.count('2'),N.count('3'),N.count('4'),N.count('5'),N.count('6'),N.count('7'),N.count('8'),N.count('9')]\n",
    "for i in range(10):\n",
    "    print(list1[i])"
   ]
  },
  {
   "cell_type": "code",
   "execution_count": 12,
   "metadata": {},
   "outputs": [
    {
     "name": "stdout",
     "output_type": "stream",
     "text": [
      " 150\n",
      " 266\n",
      " 427\n",
      "3\n",
      "1\n",
      "0\n",
      "2\n",
      "0\n",
      "0\n",
      "0\n",
      "2\n",
      "0\n",
      "0\n"
     ]
    }
   ],
   "source": [
    "#최종\n",
    "A = int(input())\n",
    "B = int(input())\n",
    "C = int(input())\n",
    "N = list(str(A*B*C))\n",
    "\n",
    "for i in range(10):\n",
    "    print(N.count(str(i)))"
   ]
  },
  {
   "cell_type": "code",
   "execution_count": null,
   "metadata": {},
   "outputs": [],
   "source": []
  }
 ],
 "metadata": {
  "kernelspec": {
   "display_name": "Python 3",
   "language": "python",
   "name": "python3"
  },
  "language_info": {
   "codemirror_mode": {
    "name": "ipython",
    "version": 3
   },
   "file_extension": ".py",
   "mimetype": "text/x-python",
   "name": "python",
   "nbconvert_exporter": "python",
   "pygments_lexer": "ipython3",
   "version": "3.7.6"
  }
 },
 "nbformat": 4,
 "nbformat_minor": 4
}
