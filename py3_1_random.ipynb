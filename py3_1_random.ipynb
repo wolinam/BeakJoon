{
 "cells": [
  {
   "cell_type": "code",
   "execution_count": 6,
   "metadata": {},
   "outputs": [
    {
     "name": "stdout",
     "output_type": "stream",
     "text": [
      "4 19 24 "
     ]
    }
   ],
   "source": [
    "import random\n",
    "\n",
    "list = [] #리스트생성\n",
    "rnum = random.randint(0,100) #0부터100까지 추출\n",
    "\n",
    "for i in range(3): #숫자3개 뽑기\n",
    "    while rnum in list: #뽑은 숫자들이 중복되지않도록 list에 이미 있는 숫자인지 검토\n",
    "        rnum = random.randint(0,100) #중복되면 다시 뽑기\n",
    "    list.append(rnum) #list에 추가\n",
    "    \n",
    "list.sort()\n",
    "\n",
    "for j in list:\n",
    "    print(j, end = ' ')"
   ]
  },
  {
   "cell_type": "code",
   "execution_count": null,
   "metadata": {},
   "outputs": [],
   "source": []
  }
 ],
 "metadata": {
  "kernelspec": {
   "display_name": "Python 3",
   "language": "python",
   "name": "python3"
  },
  "language_info": {
   "codemirror_mode": {
    "name": "ipython",
    "version": 3
   },
   "file_extension": ".py",
   "mimetype": "text/x-python",
   "name": "python",
   "nbconvert_exporter": "python",
   "pygments_lexer": "ipython3",
   "version": "3.7.3"
  }
 },
 "nbformat": 4,
 "nbformat_minor": 2
}
